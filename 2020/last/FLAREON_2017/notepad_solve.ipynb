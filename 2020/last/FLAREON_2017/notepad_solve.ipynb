{
 "cells": [
  {
   "cell_type": "code",
   "execution_count": 36,
   "metadata": {},
   "outputs": [
    {
     "name": "stdout",
     "output_type": "stream",
     "text": [
      "bytearray(b'7\\xe7\\xd8\\xbezS0%\\xbb8W&\\x97&oP\\xf4ug\\xbf\\xb0\\xef\\xa5ze\\xae\\xabfs\\xa0\\xa3\\xa1')\n"
     ]
    },
    {
     "data": {
      "text/plain": [
       "'bl457_fr0m_th3_p457@flar'"
      ]
     },
     "execution_count": 36,
     "metadata": {},
     "output_type": "execute_result"
    }
   ],
   "source": [
    "import binascii\n",
    "\n",
    "key1= binascii.unhexlify(\"558bec8b4d0c5657\")\n",
    "key2 = binascii.unhexlify(\"8b550852ff153020\")\n",
    "key3 = binascii.unhexlify(\"c04050ffd683c408\")\n",
    "\n",
    "chars = bytearray([0x37,0xE7,0xD8,0xBE,0x7A,0x53,0x30,0x25,0xBB,0x38,0x57,0x26,0x97,0x26,0x6F,0x50,0xF4,0x75,0x67,0xBF,0xB0,0xEF,0xA5,0x7A,0x65,0xAE,0xAB,0x66,0x73,0xA0,0xA3,0xA1])\n",
    "print(chars)\n",
    "\n",
    "flag = \"\".join(chr(s) for s in chars)[:24]\n",
    "flag=  chars[:24]\n",
    "\n",
    "xor = key1 + key2 + key3\n",
    "\n",
    "\"\".join([chr(a ^ b) for a, b in zip(xor, flag)])"
   ]
  },
  {
   "cell_type": "code",
   "execution_count": null,
   "metadata": {},
   "outputs": [],
   "source": []
  }
 ],
 "metadata": {
  "kernelspec": {
   "display_name": "Python 3",
   "language": "python",
   "name": "python3"
  },
  "language_info": {
   "codemirror_mode": {
    "name": "ipython",
    "version": 3
   },
   "file_extension": ".py",
   "mimetype": "text/x-python",
   "name": "python",
   "nbconvert_exporter": "python",
   "pygments_lexer": "ipython3",
   "version": "3.6.2"
  }
 },
 "nbformat": 4,
 "nbformat_minor": 2
}
