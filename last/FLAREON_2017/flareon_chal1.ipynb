{
 "cells": [
  {
   "cell_type": "code",
   "execution_count": 7,
   "metadata": {},
   "outputs": [
    {
     "data": {
      "text/plain": [
       "b'A3E\\x01\\x00\\x00\\x00\\x00\\x00\\x00'"
      ]
     },
     "execution_count": 7,
     "metadata": {},
     "output_type": "execute_result"
    }
   ],
   "source": [
    "i = 21312321\n",
    "i.to_bytes(10,byteorder= \"little\")"
   ]
  },
  {
   "cell_type": "code",
   "execution_count": 12,
   "metadata": {},
   "outputs": [
    {
     "name": "stdout",
     "output_type": "stream",
     "text": [
      "b'\\xff\\xff\\xff\\xff\\xff\\xff\\xff\\xff'\n",
      "b'\\xff\\xff\\xff\\xff\\xff\\xff\\xff\\xff'\n",
      "b'\\xff\\xff\\xff\\xff\\xff\\xff\\xff\\xff'\n",
      "b'\\xff\\xff\\xff\\xff\\xff\\xff\\xff\\xff'\n",
      "b'\\xff\\xff\\xff\\xff\\xff\\xff\\xff\\xff'\n",
      "b'\\xff\\xff\\xff\\xff\\xff\\xff\\xff\\xff'\n",
      "b'\\xff\\xff\\xff\\xff\\xff\\xff\\xff\\xff'\n",
      "b'\\xff\\xff\\xff\\xff\\xff\\xff\\xff\\xff'\n",
      "b'\\xff\\xff\\xff\\xff\\xff\\xff\\xff\\xff'\n",
      "b'\\xff\\xff\\xff\\xff\\xff\\xff\\xff\\xff'\n",
      "b'\\xff\\xff\\xff\\xff\\xff\\xff\\xff\\xff'\n",
      "b'\\xff\\xff\\xff\\xff\\xff\\xff\\xff\\xff'\n"
     ]
    }
   ],
   "source": [
    "message_byte_length = 8\n",
    "msg = b\"\".join([i.to_bytes(1, byteorder=\"little\") for i in range(100)])\n",
    "# print(msg)\n",
    "msg = b'\\xff'*100\n",
    "\n",
    "for block in [msg[x*message_byte_length : x*message_byte_length + message_byte_length] for x in range(len(msg)//message_byte_length)]:\n",
    "    print(block)"
   ]
  },
  {
   "cell_type": "code",
   "execution_count": 14,
   "metadata": {},
   "outputs": [
    {
     "data": {
      "text/plain": [
       "'1111011'"
      ]
     },
     "execution_count": 14,
     "metadata": {},
     "output_type": "execute_result"
    }
   ],
   "source": [
    "\"{0:b}\".format(123)"
   ]
  },
  {
   "cell_type": "code",
   "execution_count": 54,
   "metadata": {},
   "outputs": [
    {
     "name": "stdout",
     "output_type": "stream",
     "text": [
      "0\n",
      "b'\\r&IE*\\x17xD+l]^E\\x12/\\x17+DonV\\t_EGs&\\n\\r\\x13\\x17HB\\x01@M\\x0c\\x02i'\n",
      "bytearray(b'm')\n",
      "[82, 95, 121, 48, 117, 95, 72, 48, 116, 95, 51, 110, 48, 117, 103, 72, 95, 116, 48, 95, 49, 103, 110, 49, 116, 51, 64, 102, 108, 97, 114, 101, 45, 111, 110, 46, 99, 111, 109]\n",
      "bytearray(b'moc.no-eralf@3t1ng1_0t_Hgu0n3_t0H_u0y_R')\n",
      "R_y0u_H0t_3n0ugH_t0_1gn1t3@flare-on.com\n",
      "39\n"
     ]
    }
   ],
   "source": [
    "import binascii\n",
    "v4 = 0\n",
    "print(v4)\n",
    "b = binascii.unhexlify(\"0D2649452A1778442B6C5D5E45122F172B446F6E56095F454773260A0D1317484201404D0C0269\")\n",
    "print(b)\n",
    "\n",
    "output = bytearray([109])\n",
    "print(output)\n",
    "for i in range(37, -1, -1):\n",
    "    output.append(output[-1] ^ b[i])\n",
    "    \n",
    "print(list(reversed(output)))\n",
    "print(output)\n",
    "flag = output.decode()[::-1]\n",
    "print(flag)\n",
    "print(len(flag))\n"
   ]
  },
  {
   "cell_type": "code",
   "execution_count": 39,
   "metadata": {},
   "outputs": [
    {
     "name": "stdout",
     "output_type": "stream",
     "text": [
      "b'0d2649452a1778442b6c5d5e45122f172b446f6e56095f454773260a0d1317484201404d0c0269'\n"
     ]
    }
   ],
   "source": [
    "array = bytearray(b'V[}4q[L4p[7j4qcL[p4[5cj5p7Dbheva)kj*gki')\n",
    "new_array = bytearray(b'0'*39)\n",
    "v4 = \n",
    "for i in range(38, -1, -1):\n",
    "    new_array[i] = v4 ^ array[i]\n",
    "    v4 = array[i]\n",
    "    \n",
    "print(binascii.hexlify(new_array))"
   ]
  },
  {
   "cell_type": "code",
   "execution_count": 53,
   "metadata": {},
   "outputs": [
    {
     "data": {
      "text/plain": [
       "109"
      ]
     },
     "execution_count": 53,
     "metadata": {},
     "output_type": "execute_result"
    }
   ],
   "source": [
    "4 ^ 0x69"
   ]
  },
  {
   "cell_type": "code",
   "execution_count": 55,
   "metadata": {},
   "outputs": [
    {
     "data": {
      "text/plain": [
       "240"
      ]
     },
     "execution_count": 55,
     "metadata": {},
     "output_type": "execute_result"
    }
   ],
   "source": [
    "0xf0"
   ]
  },
  {
   "cell_type": "code",
   "execution_count": 57,
   "metadata": {},
   "outputs": [
    {
     "data": {
      "text/plain": [
       "'BE SURE TO DRINK YOUR OVALTINE'"
      ]
     },
     "execution_count": 57,
     "metadata": {},
     "output_type": "execute_result"
    }
   ],
   "source": [
    "import base64\n",
    "base64.b64decode(\"QkUgU1VSRSBUTyBEUklOSyBZT1VSIE9WQUxUSU5F\").decode(\"utf-8\")"
   ]
  },
  {
   "cell_type": "code",
   "execution_count": 71,
   "metadata": {},
   "outputs": [],
   "source": [
    "import random\n",
    "rand = bytearray(random.getrandbits(8) for _ in range(128))\n",
    "from Crypto.Cipher import ARC4moira\n",
    "cipher = ARC4.new(bytes(rand))\n",
    "\n"
   ]
  },
  {
   "cell_type": "code",
   "execution_count": null,
   "metadata": {
    "collapsed": true
   },
   "outputs": [],
   "source": []
  }
 ],
 "metadata": {
  "kernelspec": {
   "display_name": "Python 3",
   "language": "python",
   "name": "python3"
  },
  "language_info": {
   "codemirror_mode": {
    "name": "ipython",
    "version": 3
   },
   "file_extension": ".py",
   "mimetype": "text/x-python",
   "name": "python",
   "nbconvert_exporter": "python",
   "pygments_lexer": "ipython3",
   "version": "3.6.2"
  }
 },
 "nbformat": 4,
 "nbformat_minor": 1
}
