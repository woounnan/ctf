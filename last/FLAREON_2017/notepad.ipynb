{
 "cells": [
  {
   "cell_type": "code",
   "execution_count": 1,
   "metadata": {},
   "outputs": [
    {
     "name": "stdout",
     "output_type": "stream",
     "text": [
      "0x6b\n",
      "0x3580065\n",
      "0x3281b32\n",
      "0xd99019ae\n",
      "0xcd76cce5\n",
      "0x672e6c22\n",
      "0x611339a6\n",
      "0xcd3308cb\n",
      "0x465e69c6\n",
      "0x4e323357\n",
      "0x9aba71fd\n",
      "0x8fecd63f\n"
     ]
    }
   ],
   "source": [
    "s = \"kernel32.dll\"\n",
    "desired = 0x8fecd63f\n",
    "\n",
    "final_val = 0\n",
    "for char in s:\n",
    "    final_val = ord(char) + ((final_val << 19) | (final_val >> 13)) & 0xffffffff\n",
    "    print(hex(final_val))\n",
    "    "
   ]
  },
  {
   "cell_type": "code",
   "execution_count": 2,
   "metadata": {},
   "outputs": [
    {
     "data": {
      "text/plain": [
       "'0x48240899c8272'"
      ]
     },
     "execution_count": 2,
     "metadata": {},
     "output_type": "execute_result"
    }
   ],
   "source": [
    "hex(ord(\"2\") + (0x90481133 << 19) | (0x90481133 >> 13))"
   ]
  },
  {
   "cell_type": "code",
   "execution_count": 3,
   "metadata": {
    "scrolled": true
   },
   "outputs": [
    {
     "name": "stdout",
     "output_type": "stream",
     "text": [
      "sat\n",
      "[78, 111, 100, 97, 122, 100, 46, 100, 108, 108]\n",
      "Nodazd.dll\n"
     ]
    }
   ],
   "source": [
    "from z3 import *\n",
    "\n",
    "p, q, r, t, u, v, w, x, y, z = BitVecs('p q r t u v w x y z', 64)\n",
    "\n",
    "c1, c2, c3, c4, c5,c6,c7,c8,c9,c10,c11 = BitVecs(\"c1 c2 c3 c4 c5 c6 c7 c8 c9 c10 c11\", 64)\n",
    "\n",
    "\n",
    "s = Solver()\n",
    "s.add(c11 == p)\n",
    "s.add(c10 + (p << 19 | p >> 13) & 0xffffffff == q)\n",
    "s.add(c9 + (q << 19 | q >> 13) & 0xffffffff == r)\n",
    "s.add(c8 + (r << 19 | r >> 13) & 0xffffffff == t)\n",
    "s.add(c7 + (t << 19 | t >> 13) & 0xffffffff == u)\n",
    "s.add(c6 + (u << 19 | u >> 13) & 0xffffffff == v)\n",
    "s.add(c5 + (v << 19 | v >> 13) & 0xffffffff == w)\n",
    "s.add(c4 + (w << 19 | w >> 13) & 0xffffffff == x)\n",
    "s.add(c3 + (x << 19 | x >> 13) & 0xffffffff == y)\n",
    "s.add(c2 + (y << 19 | y >> 13) & 0xffffffff == z)\n",
    "s.add(c1 + (z << 19 | z >> 13) & 0xffffffff == 0x8fecd63f)\n",
    "\n",
    "s.add(c1 == 0x6C) # l\n",
    "s.add(c2 == 0x6C) # l\n",
    "s.add(c3 == 0x64) # d\n",
    "s.add(c4 == 0x2e) # .\n",
    "\n",
    "\n",
    "# s.add(c1 >= 32)\n",
    "# s.add(c2 >= 32)\n",
    "# s.add(c3 >= 32)\n",
    "# s.add(c4 >= 32)\n",
    "# s.add(c5 >= 0x41)\n",
    "# s.add(c6 >= 0x41)\n",
    "# s.add(c7 >= 0x41)\n",
    "# s.add(c8 >= 0x41)\n",
    "# s.add(c9 >= 0x41)\n",
    "s.add(Or(And(0x41 <= c5, 0x5a >= c5), And(0x30 <= c5, 0x39 >= c5), And(0x61 <= c5, 0x7a >= c5)))\n",
    "s.add(Or(And(0x41 <= c6, 0x5a >= c6), And(0x30 <= c6, 0x39 >= c6), And(0x61 <= c6, 0x7a >= c6)))\n",
    "s.add(Or(And(0x41 <= c7, 0x5a >= c7), And(0x30 <= c7, 0x39 >= c7), And(0x61 <= c7, 0x7a >= c7)))\n",
    "s.add(Or(And(0x41 <= c8, 0x5a >= c8), And(0x30 <= c8, 0x39 >= c8), And(0x61 <= c8, 0x7a >= c8)))\n",
    "s.add(Or(And(0x41 <= c9, 0x5a >= c9), And(0x30 <= c9, 0x39 >= c9), And(0x61 <= c9, 0x7a >= c9)))\n",
    "s.add(Or(And(0x41 <= c10, 0x5a >= c10), And(0x30 <= c10, 0x39 >= c10), And(0x61 <= c10, 0x7a >= c10)))\n",
    "s.add(Or(And(0x41 <= c11, 0x5a >= c11), And(0x30 <= c11, 0x39 >= c11), And(0x61 <= c11, 0x7a >= c11)))\n",
    "\n",
    "# s.add((c5 >= 32 and 0x5a > c5) or (0x30 <= c5 and 0x40 > c5))\n",
    "# s.add((c6 >= 32 and 0x5a > c6) or (0x30 <= c6 and 0x40 > c6))\n",
    "# s.add((c7 >= 32 and 0x5a > c7) or (0x30 <= c7 and 0x40 > c7))\n",
    "# s.add((c8 >= 32 and 0x5a > c8) or (0x30 <= c8 and 0x40 > c8))\n",
    "# s.add((c9 >= 32 and 0x5a > c9) or (0x30 <= c9 and 0x40 > c9))\n",
    "\n",
    "# s.add()\n",
    "# s.add(0x5a > c6)\n",
    "# s.add(0x5a > c7)\n",
    "# s.add(0x5a > c8)\n",
    "# s.add(0x5a > c9)\n",
    "\n",
    "# s.add(127 > c4)\n",
    "# s.add(127 > c1)\n",
    "# s.add(127 > c2)\n",
    "# s.add(127 > c3)\n",
    "\n",
    "print(s.check())\n",
    "sats = s.model()\n",
    "chars = [sats[c1],sats[c2],sats[c3],sats[c4],sats[c5],sats[c6],sats[c7],sats[c8],sats[c9], sats[c10]][::-1]\n",
    "print(chars)\n",
    "\n",
    "name = ''.join([chr(int(str(w))) for w in chars])\n",
    "print(name)"
   ]
  },
  {
   "cell_type": "code",
   "execution_count": null,
   "metadata": {},
   "outputs": [],
   "source": []
  },
  {
   "cell_type": "code",
   "execution_count": 25,
   "metadata": {},
   "outputs": [
    {
     "data": {
      "text/plain": [
       "<function z3.z3core.Z3_mk_bvadd_no_overflow>"
      ]
     },
     "execution_count": 25,
     "metadata": {},
     "output_type": "execute_result"
    }
   ],
   "source": [
    "Z3_mk_bvadd_no_overflow"
   ]
  },
  {
   "cell_type": "code",
   "execution_count": null,
   "metadata": {},
   "outputs": [],
   "source": []
  }
 ],
 "metadata": {
  "kernelspec": {
   "display_name": "Python 3",
   "language": "python",
   "name": "python3"
  },
  "language_info": {
   "codemirror_mode": {
    "name": "ipython",
    "version": 3
   },
   "file_extension": ".py",
   "mimetype": "text/x-python",
   "name": "python",
   "nbconvert_exporter": "python",
   "pygments_lexer": "ipython3",
   "version": "3.6.3"
  }
 },
 "nbformat": 4,
 "nbformat_minor": 1
}
