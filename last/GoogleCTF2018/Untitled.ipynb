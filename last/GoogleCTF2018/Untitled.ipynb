{
 "cells": [
  {
   "cell_type": "code",
   "execution_count": 12,
   "metadata": {},
   "outputs": [
    {
     "name": "stdout",
     "output_type": "stream",
     "text": [
      "SAT\n",
      "!\"$,==<==-(@0@]\n"
     ]
    }
   ],
   "source": [
    "from z3 import *\n",
    "\n",
    "s = Solver()\n",
    "password = []\n",
    "length = 15\n",
    "for i in range(length):\n",
    "  password.append(BitVec('chr{}'.format(i), 8))\n",
    "  s.add([UGT(password[i], 0x20), ULT(password[i], 0x80)])\n",
    "\n",
    "code = BitVecVal(0, 16)\n",
    "code += 0x5417\n",
    "\n",
    "for i in range(0, length):\n",
    "  code = code ^ SignExt(8, password[i])\n",
    "  code = code * 2\n",
    "\n",
    "s.add(code == 0x8DFA)\n",
    "\n",
    "if s.check() == sat:\n",
    "    print('SAT')\n",
    "\n",
    "    m = s.model()\n",
    "    final = \"\"\n",
    "    # get a solved state\n",
    "    for i in range(15):\n",
    "        obj = password[i]\n",
    "        final += chr(m[obj].as_long())\n",
    "    print final\n",
    "else:\n",
    "    print('UNSAT')\n"
   ]
  },
  {
   "cell_type": "code",
   "execution_count": null,
   "metadata": {},
   "outputs": [],
   "source": []
  }
 ],
 "metadata": {
  "kernelspec": {
   "display_name": "Python 2",
   "language": "python",
   "name": "python2"
  },
  "language_info": {
   "codemirror_mode": {
    "name": "ipython",
    "version": 2
   },
   "file_extension": ".py",
   "mimetype": "text/x-python",
   "name": "python",
   "nbconvert_exporter": "python",
   "pygments_lexer": "ipython2",
   "version": "2.7.14"
  }
 },
 "nbformat": 4,
 "nbformat_minor": 2
}
