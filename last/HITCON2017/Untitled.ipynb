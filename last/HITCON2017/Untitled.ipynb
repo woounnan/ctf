{
 "cells": [
  {
   "cell_type": "code",
   "execution_count": 1,
   "metadata": {},
   "outputs": [],
   "source": [
    "# MASK = 0xffff\n",
    "# temp = [0x7ddd, 0xffff, 0xffad, 0xfd21, 0, 0]\n",
    "\n",
    "\n",
    "# def jeq_neg_add(idx, magic):\n",
    "#     if temp[idx] == 0:\n",
    "#         a = 65536*magic\n",
    "#     else:\n",
    "#         a = temp[idx]* magic\n",
    "\n",
    "#     x = a\n",
    "#     a = a/65537*65537\n",
    "\n",
    "#     s = (~a + x)\n",
    "#     if s == 0x10000:\n",
    "#         temp[idx] = 0\n",
    "#     else:\n",
    "#         temp[idx] = s\n",
    "\n",
    "# def swap(i1, i2):\n",
    "#     t = temp[i1]\n",
    "#     temp[i1] = temp[i2]\n",
    "#     temp[i2]  = t\n",
    "        \n",
    "# jeq_neg_add(0, 26465)\n",
    "\n",
    "# # temp[1] = (temp[1]+27750)&MASK\n",
    "# # temp[2] = (temp[2]+24421)&MASK\n",
    "\n",
    "# # jeq_neg_add(3, 27489)\n",
    "\n",
    "# # temp[4] = temp[0] ^ temp[2]\n",
    "# # temp[5] = temp[1] ^ temp[3]\n",
    "\n",
    "# # jeq_neg_add(4, 26207)\n",
    "\n",
    "# # temp[5] = (temp[4] + temp[5]) & MASK\n",
    "\n",
    "# # jeq_neg_add(5, 24927)\n",
    "\n",
    "# # temp[4] = (temp[4] + temp[5]) & MASK\n",
    "\n",
    "# # temp[0] = (temp[0] ^ temp[5]) & MASK\n",
    "# # temp[1] = (temp[1] ^ temp[4]) & MASK\n",
    "# # temp[2] = (temp[2] ^ temp[5]) & MASK\n",
    "# # temp[3] = (temp[3] ^ temp[4]) & MASK\n",
    "\n",
    "# # swap(1,2)\n",
    "\n",
    "# # jeq_neg_add(0, 28001)\n",
    "\n",
    "# print [hex(t) for t in temp]\n"
   ]
  },
  {
   "cell_type": "code",
   "execution_count": 2,
   "metadata": {},
   "outputs": [
    {
     "name": "stdout",
     "output_type": "stream",
     "text": [
      "If(~((If(w1 == 0, 1734410240, w1*26465 & 4294967295)/65537)*\n",
      "     65537) +\n",
      "   If(w1 == 0, 1734410240, w1*26465 & 4294967295) ==\n",
      "   65536,\n",
      "   0,\n",
      "   ~((If(w1 == 0, 1734410240, w1*26465 & 4294967295)/65537)*\n",
      "     65537) +\n",
      "   If(w1 == 0, 1734410240, w1*26465 & 4294967295))\n"
     ]
    },
    {
     "data": {
      "text/plain": [
       "[w1 = 2835670338]"
      ]
     },
     "execution_count": 2,
     "metadata": {},
     "output_type": "execute_result"
    }
   ],
   "source": [
    "from z3 import *\n",
    "\n",
    "s = Solver()\n",
    "w1, w2, w3, w4 = BitVecs('w1 w2 w3 w4', 32)\n",
    "a, x = BitVecs('a x', 32)\n",
    "size = 32\n",
    "\n",
    "temp = [w1, w2, w3, w4, 0, 0]\n",
    "\n",
    "def jeq_neg_add(idx, magic):\n",
    "    a = If(temp[idx] == 0, 65536*magic, (temp[idx]*magic)&0xffffffff)\n",
    "    x = a\n",
    "    a = a/65537*65537\n",
    "    \n",
    "    s = (~a + x)\n",
    "    temp[idx] = If(s == 0x10000, 0, s)\n",
    "    print temp[idx]\n",
    "    return temp[idx]\n",
    "        \n",
    "def swap(i1, i2):\n",
    "    t = temp[i1]\n",
    "    temp[i1] = temp[i2]\n",
    "    temp[i2]  = t\n",
    "        \n",
    "        \n",
    "s.add(jeq_neg_add(0, 26465) == 0x68e9)\n",
    "s.add(w1 < 20)\n",
    "\n",
    "s.check()\n",
    "s.model()"
   ]
  },
  {
   "cell_type": "code",
   "execution_count": 3,
   "metadata": {},
   "outputs": [
    {
     "data": {
      "text/plain": [
       "'0xb54b532a'"
      ]
     },
     "execution_count": 3,
     "metadata": {},
     "output_type": "execute_result"
    }
   ],
   "source": [
    "hex(3041612586)"
   ]
  },
  {
   "cell_type": "code",
   "execution_count": null,
   "metadata": {},
   "outputs": [],
   "source": []
  }
 ],
 "metadata": {
  "kernelspec": {
   "display_name": "Python 2",
   "language": "python",
   "name": "python2"
  },
  "language_info": {
   "codemirror_mode": {
    "name": "ipython",
    "version": 2
   },
   "file_extension": ".py",
   "mimetype": "text/x-python",
   "name": "python",
   "nbconvert_exporter": "python",
   "pygments_lexer": "ipython2",
   "version": "2.7.14"
  }
 },
 "nbformat": 4,
 "nbformat_minor": 2
}
